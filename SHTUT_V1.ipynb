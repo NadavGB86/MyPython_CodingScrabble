{
  "nbformat": 4,
  "nbformat_minor": 0,
  "metadata": {
    "colab": {
      "name": "SHTUT_V1.ipynb",
      "provenance": [],
      "collapsed_sections": []
    },
    "kernelspec": {
      "name": "python3",
      "display_name": "Python 3"
    },
    "language_info": {
      "name": "python"
    }
  },
  "cells": [
    {
      "cell_type": "code",
      "source": [
        "!pip install more-itertools\n",
        "import numpy as np\n",
        "import collections\n",
        "import itertools\n",
        "from more_itertools import sliding_window, powerset"
      ],
      "metadata": {
        "id": "-4OIj6Emh8tH"
      },
      "execution_count": null,
      "outputs": []
    },
    {
      "cell_type": "markdown",
      "source": [
        "We are given a sequence of numbers as a string. (e.g. ; [3,4,5,5,5,2,1])\n",
        "\n",
        "> We are asked to yield the different groups of trending sequences within that list, and also, provide a power-set combination for each trending sub-group withing the different groups\n",
        "\n",
        "(e.g. ; \n",
        "\n",
        " 1) 3,4,5 & 34 45 345\n",
        "\n",
        " 2) 5,5,5 & 55 55 555\n",
        "\n",
        " 3) 5,2,1 & 52 21 521\n",
        "\n",
        ")\n"
      ],
      "metadata": {
        "id": "gouIa5BVUNOp"
      }
    },
    {
      "cell_type": "markdown",
      "source": [
        "## THE `ANSWER`"
      ],
      "metadata": {
        "id": "w8hnA9dpumWs"
      }
    },
    {
      "cell_type": "code",
      "source": [
        "my_dict_list = collections.defaultdict()\n",
        "q_list = np.array([3,4,5,5,5,2,1])\n",
        "q_signs = np.sign(np.diff(q_list))\n",
        "print(my_dict_list)\n",
        "\n",
        "sign_counter = 1\n",
        "for index, sign in enumerate(q_signs):\n",
        "    if index == (len(q_signs) -1):\n",
        "        break\n",
        "    if q_signs[index] != q_signs[index+1]:\n",
        "        print(index) # DEBUG\n",
        "        sign_counter+=1\n",
        "print(sign_counter)"
      ],
      "metadata": {
        "colab": {
          "base_uri": "https://localhost:8080/"
        },
        "id": "6Af3w_7dj3vT",
        "outputId": "2df587fe-dbf3-411f-c02d-48d9f67d0383"
      },
      "execution_count": 10,
      "outputs": [
        {
          "output_type": "stream",
          "name": "stdout",
          "text": [
            "defaultdict(None, {})\n",
            "1\n",
            "3\n",
            "3\n"
          ]
        }
      ]
    },
    {
      "cell_type": "code",
      "source": [
        "def check(my_dif_dict, the_list, other_list, sign_list, glob_counter):\n",
        "\n",
        "    the_list = list(the_list)\n",
        "    list_copy = the_list.copy()\n",
        "    other_list = list(other_list)\n",
        "\n",
        "    fin = glob_counter\n",
        "    counter = 0\n",
        "\n",
        "    while fin >= counter:\n",
        "\n",
        "        if np.sign(np.diff(list_copy))[0] > 0:\n",
        "            while (list_copy[1] > list_copy[0]):\n",
        "                other_list.append(list_copy.pop(0))\n",
        "                print(other_list) # DEBUG\n",
        "                if len(list_copy) == 1:\n",
        "                    counter+=1\n",
        "                    other_list.append(list_copy.pop(0))\n",
        "                    my_dif_dict[counter] = [i for i in powerset(other_list) if len(i) > 1]\n",
        "                    return my_dif_dict\n",
        "            temp = list_copy.pop(0)\n",
        "            other_list.append(temp)\n",
        "            list_copy.insert(0, temp)\n",
        "            print(other_list) # DEBUG\n",
        "            counter+=1\n",
        "        my_dif_dict[counter] = [i for i in powerset(other_list) if len(i) > 1]\n",
        "        other_list = []\n",
        "        print(list_copy) # DEBUG\n",
        "\n",
        "        if np.sign(np.diff(list_copy))[0] == 0:\n",
        "            while (list_copy[1] == list_copy[0]):\n",
        "                other_list.append(list_copy.pop(0))\n",
        "                print(other_list) # DEBUG\n",
        "                if len(list_copy) == 1:\n",
        "                    other_list.append(list_copy.pop(0))\n",
        "                    counter+=1\n",
        "                    my_dif_dict[counter] = [i for i in powerset(other_list) if len(i) > 1]\n",
        "                    return my_dif_dict\n",
        "            temp = list_copy.pop(0)\n",
        "            other_list.append(temp)\n",
        "            list_copy.insert(0, temp)\n",
        "            print(other_list) # DEBUG\n",
        "            counter+=1\n",
        "        my_dif_dict[counter] = [i for i in powerset(other_list) if len(i) > 1]\n",
        "        other_list = []\n",
        "        print(list_copy) # DEBUG\n",
        "\n",
        "        if np.sign(np.diff(list_copy))[0] < 0:\n",
        "            while (list_copy[1] < list_copy[0]):\n",
        "                other_list.append(list_copy.pop(0))\n",
        "                print(other_list) # DEBUG\n",
        "                if len(list_copy) == 1:\n",
        "                    other_list.append(list_copy.pop(0))\n",
        "                    counter+=1\n",
        "                    my_dif_dict[counter] = [i for i in powerset(other_list) if len(i) > 1]\n",
        "                    return my_dif_dict\n",
        "            temp = list_copy.pop(0)\n",
        "            other_list.append(temp)\n",
        "            list_copy.insert(0, temp)\n",
        "            print(other_list) # DEBUG\n",
        "            counter+=1\n",
        "        my_dif_dict[counter] = [i for i in powerset(other_list) if len(i) > 1]\n",
        "        other_list = []\n",
        "        print(list_copy) # DEBUG\n",
        "\n",
        "    return my_dif_dict\n"
      ],
      "metadata": {
        "id": "K37vedx6jEPn"
      },
      "execution_count": 11,
      "outputs": []
    },
    {
      "cell_type": "code",
      "source": [
        "temp_list = []\n",
        "my_answer_dict = check(my_dict_list, q_list, temp_list, q_signs, sign_counter)\n",
        "my_answer_dict"
      ],
      "metadata": {
        "colab": {
          "base_uri": "https://localhost:8080/"
        },
        "id": "Ww2c_pI3OkEP",
        "outputId": "3c1b3bd7-4d06-441f-ae99-b52984ccc6d9"
      },
      "execution_count": 12,
      "outputs": [
        {
          "output_type": "stream",
          "name": "stdout",
          "text": [
            "[3]\n",
            "[3, 4]\n",
            "[3, 4, 5]\n",
            "[5, 5, 5, 2, 1]\n",
            "[5]\n",
            "[5, 5]\n",
            "[5, 5, 5]\n",
            "[5, 2, 1]\n",
            "[5]\n",
            "[5, 2]\n"
          ]
        },
        {
          "output_type": "execute_result",
          "data": {
            "text/plain": [
              "defaultdict(None,\n",
              "            {1: [(3, 4), (3, 5), (4, 5), (3, 4, 5)],\n",
              "             2: [(5, 5), (5, 5), (5, 5), (5, 5, 5)],\n",
              "             3: [(5, 2), (5, 1), (2, 1), (5, 2, 1)]})"
            ]
          },
          "metadata": {},
          "execution_count": 12
        }
      ]
    }
  ]
}